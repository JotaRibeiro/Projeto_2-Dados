{
 "cells": [
  {
   "cell_type": "markdown",
   "metadata": {},
   "source": [
    "## Como retirar os retweets!"
   ]
  },
  {
   "cell_type": "markdown",
   "metadata": {},
   "source": [
    "pela ellenzita kkkk"
   ]
  },
  {
   "cell_type": "code",
   "execution_count": 44,
   "metadata": {},
   "outputs": [],
   "source": [
    "import pandas as pd"
   ]
  },
  {
   "cell_type": "code",
   "execution_count": 48,
   "metadata": {},
   "outputs": [],
   "source": [
    "#ler os dois excel\n",
    "excel_1 = pd.read_excel(\"Gabigol_1.xlsx\")\n",
    "excel_2 = pd.read_excel(\"Gabigol_2.xlsx\")"
   ]
  },
  {
   "cell_type": "code",
   "execution_count": 49,
   "metadata": {},
   "outputs": [],
   "source": [
    "#retirar as repeticoes da coluna de treinamento\n",
    "sem_repeticao_1 = set(excel_1.Treinamento)\n",
    "sem_repeticao_2 = set(excel_2.Treinamento)"
   ]
  },
  {
   "cell_type": "code",
   "execution_count": 50,
   "metadata": {},
   "outputs": [],
   "source": [
    "#transformar em uma série\n",
    "series_1 = pd.Series(list(sem_repeticao_1)) #após o set, precisa enviar como uma lista, por isso o list()\n",
    "series_2 = pd.Series(list(sem_repeticao_2))"
   ]
  },
  {
   "cell_type": "code",
   "execution_count": 51,
   "metadata": {},
   "outputs": [],
   "source": [
    "#juntar as series com o pd.concat()\n",
    "series_juntado = pd.concat([series_1,series_2])"
   ]
  },
  {
   "cell_type": "code",
   "execution_count": 52,
   "metadata": {},
   "outputs": [],
   "source": [
    "#retirar possíveis duplicaçoes novamente\n",
    "base_final = set(series_juntado)\n",
    "\n",
    "#voltar para uma serie\n",
    "series_final = pd.Series(list(base_final))"
   ]
  },
  {
   "cell_type": "code",
   "execution_count": 53,
   "metadata": {},
   "outputs": [],
   "source": [
    "#criar o excel final\n",
    "series_final.to_excel(\"base_final.xlsx\")"
   ]
  },
  {
   "cell_type": "code",
   "execution_count": null,
   "metadata": {},
   "outputs": [],
   "source": [
    "#vc vai ter q arrumar o excel, excluindo a coluna A e trocando o nome na B para treinamento!\n",
    "#hehe cabou"
   ]
  }
 ],
 "metadata": {
  "kernelspec": {
   "display_name": "Python 3",
   "language": "python",
   "name": "python3"
  },
  "language_info": {
   "codemirror_mode": {
    "name": "ipython",
    "version": 3
   },
   "file_extension": ".py",
   "mimetype": "text/x-python",
   "name": "python",
   "nbconvert_exporter": "python",
   "pygments_lexer": "ipython3",
   "version": "3.7.1"
  }
 },
 "nbformat": 4,
 "nbformat_minor": 2
}
